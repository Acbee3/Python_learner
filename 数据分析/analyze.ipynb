{
 "cells": [
  {
   "cell_type": "code",
   "execution_count": 3,
   "metadata": {},
   "outputs": [
    {
     "data": {
      "text/html": [
       "<div>\n",
       "<style scoped>\n",
       "    .dataframe tbody tr th:only-of-type {\n",
       "        vertical-align: middle;\n",
       "    }\n",
       "\n",
       "    .dataframe tbody tr th {\n",
       "        vertical-align: top;\n",
       "    }\n",
       "\n",
       "    .dataframe thead th {\n",
       "        text-align: right;\n",
       "    }\n",
       "</style>\n",
       "<table border=\"1\" class=\"dataframe\">\n",
       "  <thead>\n",
       "    <tr style=\"text-align: right;\">\n",
       "      <th></th>\n",
       "      <th>订单编号</th>\n",
       "      <th>日期</th>\n",
       "      <th>省</th>\n",
       "      <th>订单量</th>\n",
       "      <th>单价</th>\n",
       "      <th>销售额</th>\n",
       "      <th>月份</th>\n",
       "    </tr>\n",
       "  </thead>\n",
       "  <tbody>\n",
       "    <tr>\n",
       "      <th>0</th>\n",
       "      <td>a56d-4415-ad6e-020cdb154c35</td>\n",
       "      <td>2020-01-01</td>\n",
       "      <td>湖北</td>\n",
       "      <td>1.0</td>\n",
       "      <td>30.0</td>\n",
       "      <td>30.0</td>\n",
       "      <td>1</td>\n",
       "    </tr>\n",
       "    <tr>\n",
       "      <th>1</th>\n",
       "      <td>953f-4b46-a8a2-0eb0e39818a8</td>\n",
       "      <td>2020-01-01</td>\n",
       "      <td>湖北</td>\n",
       "      <td>1.0</td>\n",
       "      <td>30.0</td>\n",
       "      <td>30.0</td>\n",
       "      <td>1</td>\n",
       "    </tr>\n",
       "    <tr>\n",
       "      <th>2</th>\n",
       "      <td>87af-48e5-8bed-c5dcf9ecc172</td>\n",
       "      <td>2020-01-01</td>\n",
       "      <td>湖北</td>\n",
       "      <td>1.0</td>\n",
       "      <td>30.0</td>\n",
       "      <td>30.0</td>\n",
       "      <td>1</td>\n",
       "    </tr>\n",
       "    <tr>\n",
       "      <th>3</th>\n",
       "      <td>535a-4eca-8fa0-9cc54c66e11d</td>\n",
       "      <td>2020-01-01</td>\n",
       "      <td>湖南</td>\n",
       "      <td>1.0</td>\n",
       "      <td>30.0</td>\n",
       "      <td>30.0</td>\n",
       "      <td>1</td>\n",
       "    </tr>\n",
       "    <tr>\n",
       "      <th>4</th>\n",
       "      <td>d707-4d5c-ac10-59d3fd3dc0bb</td>\n",
       "      <td>2020-01-01</td>\n",
       "      <td>广东</td>\n",
       "      <td>1.0</td>\n",
       "      <td>30.0</td>\n",
       "      <td>30.0</td>\n",
       "      <td>1</td>\n",
       "    </tr>\n",
       "    <tr>\n",
       "      <th>...</th>\n",
       "      <td>...</td>\n",
       "      <td>...</td>\n",
       "      <td>...</td>\n",
       "      <td>...</td>\n",
       "      <td>...</td>\n",
       "      <td>...</td>\n",
       "      <td>...</td>\n",
       "    </tr>\n",
       "    <tr>\n",
       "      <th>99480</th>\n",
       "      <td>8cad-41ee-85b7-c59b85f0ebe6</td>\n",
       "      <td>2020-06-30</td>\n",
       "      <td>湖北</td>\n",
       "      <td>10.0</td>\n",
       "      <td>30.0</td>\n",
       "      <td>300.0</td>\n",
       "      <td>6</td>\n",
       "    </tr>\n",
       "    <tr>\n",
       "      <th>99481</th>\n",
       "      <td>4ea4-480a-a070-295408955363</td>\n",
       "      <td>2020-06-30</td>\n",
       "      <td>湖北</td>\n",
       "      <td>6.0</td>\n",
       "      <td>30.0</td>\n",
       "      <td>180.0</td>\n",
       "      <td>6</td>\n",
       "    </tr>\n",
       "    <tr>\n",
       "      <th>99482</th>\n",
       "      <td>70f3-4461-9b5f-7f53a55c51b6</td>\n",
       "      <td>2020-06-30</td>\n",
       "      <td>湖北</td>\n",
       "      <td>10.0</td>\n",
       "      <td>30.0</td>\n",
       "      <td>300.0</td>\n",
       "      <td>6</td>\n",
       "    </tr>\n",
       "    <tr>\n",
       "      <th>99483</th>\n",
       "      <td>9cc8-4542-8fed-3145e1942504</td>\n",
       "      <td>2020-06-30</td>\n",
       "      <td>湖北</td>\n",
       "      <td>10.0</td>\n",
       "      <td>30.0</td>\n",
       "      <td>300.0</td>\n",
       "      <td>6</td>\n",
       "    </tr>\n",
       "    <tr>\n",
       "      <th>99484</th>\n",
       "      <td>f202-45df-96e2-ca4e4c389624</td>\n",
       "      <td>2020-06-30</td>\n",
       "      <td>湖北</td>\n",
       "      <td>5.0</td>\n",
       "      <td>30.0</td>\n",
       "      <td>150.0</td>\n",
       "      <td>6</td>\n",
       "    </tr>\n",
       "  </tbody>\n",
       "</table>\n",
       "<p>99485 rows × 7 columns</p>\n",
       "</div>"
      ],
      "text/plain": [
       "                              订单编号          日期   省   订单量    单价    销售额  月份\n",
       "0      a56d-4415-ad6e-020cdb154c35  2020-01-01  湖北   1.0  30.0   30.0   1\n",
       "1      953f-4b46-a8a2-0eb0e39818a8  2020-01-01  湖北   1.0  30.0   30.0   1\n",
       "2      87af-48e5-8bed-c5dcf9ecc172  2020-01-01  湖北   1.0  30.0   30.0   1\n",
       "3      535a-4eca-8fa0-9cc54c66e11d  2020-01-01  湖南   1.0  30.0   30.0   1\n",
       "4      d707-4d5c-ac10-59d3fd3dc0bb  2020-01-01  广东   1.0  30.0   30.0   1\n",
       "...                            ...         ...  ..   ...   ...    ...  ..\n",
       "99480  8cad-41ee-85b7-c59b85f0ebe6  2020-06-30  湖北  10.0  30.0  300.0   6\n",
       "99481  4ea4-480a-a070-295408955363  2020-06-30  湖北   6.0  30.0  180.0   6\n",
       "99482  70f3-4461-9b5f-7f53a55c51b6  2020-06-30  湖北  10.0  30.0  300.0   6\n",
       "99483  9cc8-4542-8fed-3145e1942504  2020-06-30  湖北  10.0  30.0  300.0   6\n",
       "99484  f202-45df-96e2-ca4e4c389624  2020-06-30  湖北   5.0  30.0  150.0   6\n",
       "\n",
       "[99485 rows x 7 columns]"
      ]
     },
     "execution_count": 3,
     "metadata": {},
     "output_type": "execute_result"
    }
   ],
   "source": [
    "import pandas as pd\n",
    "\n",
    "mask_data_clean = pd.read_csv('./课程素材/工作/mask_data_clean.csv', encoding='utf-8')\n",
    "mask_data_clean"
   ]
  },
  {
   "cell_type": "code",
   "execution_count": 4,
   "metadata": {},
   "outputs": [
    {
     "data": {
      "text/html": [
       "<div>\n",
       "<style scoped>\n",
       "    .dataframe tbody tr th:only-of-type {\n",
       "        vertical-align: middle;\n",
       "    }\n",
       "\n",
       "    .dataframe tbody tr th {\n",
       "        vertical-align: top;\n",
       "    }\n",
       "\n",
       "    .dataframe thead th {\n",
       "        text-align: right;\n",
       "    }\n",
       "</style>\n",
       "<table border=\"1\" class=\"dataframe\">\n",
       "  <thead>\n",
       "    <tr style=\"text-align: right;\">\n",
       "      <th></th>\n",
       "      <th>班级</th>\n",
       "      <th>性别</th>\n",
       "      <th>眼镜</th>\n",
       "      <th>成绩</th>\n",
       "    </tr>\n",
       "  </thead>\n",
       "  <tbody>\n",
       "    <tr>\n",
       "      <th>0</th>\n",
       "      <td>1</td>\n",
       "      <td>男</td>\n",
       "      <td>是</td>\n",
       "      <td>95</td>\n",
       "    </tr>\n",
       "    <tr>\n",
       "      <th>1</th>\n",
       "      <td>1</td>\n",
       "      <td>男</td>\n",
       "      <td>否</td>\n",
       "      <td>90</td>\n",
       "    </tr>\n",
       "    <tr>\n",
       "      <th>2</th>\n",
       "      <td>1</td>\n",
       "      <td>女</td>\n",
       "      <td>是</td>\n",
       "      <td>96</td>\n",
       "    </tr>\n",
       "    <tr>\n",
       "      <th>3</th>\n",
       "      <td>1</td>\n",
       "      <td>女</td>\n",
       "      <td>否</td>\n",
       "      <td>92</td>\n",
       "    </tr>\n",
       "    <tr>\n",
       "      <th>4</th>\n",
       "      <td>1</td>\n",
       "      <td>女</td>\n",
       "      <td>是</td>\n",
       "      <td>94</td>\n",
       "    </tr>\n",
       "    <tr>\n",
       "      <th>5</th>\n",
       "      <td>2</td>\n",
       "      <td>男</td>\n",
       "      <td>是</td>\n",
       "      <td>85</td>\n",
       "    </tr>\n",
       "    <tr>\n",
       "      <th>6</th>\n",
       "      <td>2</td>\n",
       "      <td>男</td>\n",
       "      <td>是</td>\n",
       "      <td>87</td>\n",
       "    </tr>\n",
       "    <tr>\n",
       "      <th>7</th>\n",
       "      <td>2</td>\n",
       "      <td>男</td>\n",
       "      <td>否</td>\n",
       "      <td>80</td>\n",
       "    </tr>\n",
       "    <tr>\n",
       "      <th>8</th>\n",
       "      <td>2</td>\n",
       "      <td>女</td>\n",
       "      <td>否</td>\n",
       "      <td>81</td>\n",
       "    </tr>\n",
       "    <tr>\n",
       "      <th>9</th>\n",
       "      <td>2</td>\n",
       "      <td>女</td>\n",
       "      <td>否</td>\n",
       "      <td>86</td>\n",
       "    </tr>\n",
       "  </tbody>\n",
       "</table>\n",
       "</div>"
      ],
      "text/plain": [
       "   班级 性别 眼镜  成绩\n",
       "0   1  男  是  95\n",
       "1   1  男  否  90\n",
       "2   1  女  是  96\n",
       "3   1  女  否  92\n",
       "4   1  女  是  94\n",
       "5   2  男  是  85\n",
       "6   2  男  是  87\n",
       "7   2  男  否  80\n",
       "8   2  女  否  81\n",
       "9   2  女  否  86"
      ]
     },
     "execution_count": 4,
     "metadata": {},
     "output_type": "execute_result"
    }
   ],
   "source": [
    "# 创建DataFrame对象\n",
    "grade_df = pd.DataFrame({'班级': [1, 1, 1, 1, 1, 2, 2, 2, 2, 2],\n",
    "                         '性别': ['男', '男', '女', '女', '女', '男', '男', '男', '女', '女'],\n",
    "                         '眼镜': ['是', '否', '是', '否', '是', '是', '是', '否', '否', '否'],\n",
    "                         '成绩': [95, 90, 96, 92, 94, 85, 87, 80, 81, 86]})\n",
    "# 查看grade_df\n",
    "grade_df"
   ]
  },
  {
   "cell_type": "code",
   "execution_count": 6,
   "metadata": {},
   "outputs": [
    {
     "name": "stderr",
     "output_type": "stream",
     "text": [
      "C:\\Users\\liuch\\AppData\\Local\\Temp\\ipykernel_33384\\2711736012.py:2: FutureWarning: The default value of numeric_only in DataFrameGroupBy.mean is deprecated. In a future version, numeric_only will default to False. Either specify numeric_only or select only columns which should be valid for the function.\n",
      "  groupby_df1 = grade_df.groupby('班级').mean()\n"
     ]
    },
    {
     "data": {
      "text/html": [
       "<div>\n",
       "<style scoped>\n",
       "    .dataframe tbody tr th:only-of-type {\n",
       "        vertical-align: middle;\n",
       "    }\n",
       "\n",
       "    .dataframe tbody tr th {\n",
       "        vertical-align: top;\n",
       "    }\n",
       "\n",
       "    .dataframe thead th {\n",
       "        text-align: right;\n",
       "    }\n",
       "</style>\n",
       "<table border=\"1\" class=\"dataframe\">\n",
       "  <thead>\n",
       "    <tr style=\"text-align: right;\">\n",
       "      <th></th>\n",
       "      <th>成绩</th>\n",
       "    </tr>\n",
       "    <tr>\n",
       "      <th>班级</th>\n",
       "      <th></th>\n",
       "    </tr>\n",
       "  </thead>\n",
       "  <tbody>\n",
       "    <tr>\n",
       "      <th>1</th>\n",
       "      <td>93.4</td>\n",
       "    </tr>\n",
       "    <tr>\n",
       "      <th>2</th>\n",
       "      <td>83.8</td>\n",
       "    </tr>\n",
       "  </tbody>\n",
       "</table>\n",
       "</div>"
      ],
      "text/plain": [
       "      成绩\n",
       "班级      \n",
       "1   93.4\n",
       "2   83.8"
      ]
     },
     "execution_count": 6,
     "metadata": {},
     "output_type": "execute_result"
    }
   ],
   "source": [
    "# 对班级进行分组求平均值操作\n",
    "groupby_df1 = grade_df.groupby('班级').mean()\n",
    "# 查看 groupby_df1\n",
    "groupby_df1"
   ]
  },
  {
   "cell_type": "code",
   "execution_count": 7,
   "metadata": {},
   "outputs": [
    {
     "name": "stderr",
     "output_type": "stream",
     "text": [
      "C:\\Users\\liuch\\AppData\\Local\\Temp\\ipykernel_33384\\1392666451.py:2: FutureWarning: The default value of numeric_only in DataFrameGroupBy.sum is deprecated. In a future version, numeric_only will default to False. Either specify numeric_only or select only columns which should be valid for the function.\n",
      "  groupby_df2 = grade_df.groupby('班级').sum()\n"
     ]
    },
    {
     "data": {
      "text/html": [
       "<div>\n",
       "<style scoped>\n",
       "    .dataframe tbody tr th:only-of-type {\n",
       "        vertical-align: middle;\n",
       "    }\n",
       "\n",
       "    .dataframe tbody tr th {\n",
       "        vertical-align: top;\n",
       "    }\n",
       "\n",
       "    .dataframe thead th {\n",
       "        text-align: right;\n",
       "    }\n",
       "</style>\n",
       "<table border=\"1\" class=\"dataframe\">\n",
       "  <thead>\n",
       "    <tr style=\"text-align: right;\">\n",
       "      <th></th>\n",
       "      <th>成绩</th>\n",
       "    </tr>\n",
       "    <tr>\n",
       "      <th>班级</th>\n",
       "      <th></th>\n",
       "    </tr>\n",
       "  </thead>\n",
       "  <tbody>\n",
       "    <tr>\n",
       "      <th>1</th>\n",
       "      <td>467</td>\n",
       "    </tr>\n",
       "    <tr>\n",
       "      <th>2</th>\n",
       "      <td>419</td>\n",
       "    </tr>\n",
       "  </tbody>\n",
       "</table>\n",
       "</div>"
      ],
      "text/plain": [
       "     成绩\n",
       "班级     \n",
       "1   467\n",
       "2   419"
      ]
     },
     "execution_count": 7,
     "metadata": {},
     "output_type": "execute_result"
    }
   ],
   "source": [
    "# 对班级进行分组求成绩的总和\n",
    "groupby_df2 = grade_df.groupby('班级').sum()\n",
    "# 查看 groupby_df2\n",
    "groupby_df2"
   ]
  },
  {
   "cell_type": "code",
   "execution_count": 8,
   "metadata": {},
   "outputs": [
    {
     "name": "stderr",
     "output_type": "stream",
     "text": [
      "C:\\Users\\liuch\\AppData\\Local\\Temp\\ipykernel_33384\\2161536462.py:2: FutureWarning: The default value of numeric_only in DataFrameGroupBy.mean is deprecated. In a future version, numeric_only will default to False. Either specify numeric_only or select only columns which should be valid for the function.\n",
      "  groupby_df3 = grade_df.groupby('性别').mean()\n"
     ]
    },
    {
     "data": {
      "text/html": [
       "<div>\n",
       "<style scoped>\n",
       "    .dataframe tbody tr th:only-of-type {\n",
       "        vertical-align: middle;\n",
       "    }\n",
       "\n",
       "    .dataframe tbody tr th {\n",
       "        vertical-align: top;\n",
       "    }\n",
       "\n",
       "    .dataframe thead th {\n",
       "        text-align: right;\n",
       "    }\n",
       "</style>\n",
       "<table border=\"1\" class=\"dataframe\">\n",
       "  <thead>\n",
       "    <tr style=\"text-align: right;\">\n",
       "      <th></th>\n",
       "      <th>班级</th>\n",
       "      <th>成绩</th>\n",
       "    </tr>\n",
       "    <tr>\n",
       "      <th>性别</th>\n",
       "      <th></th>\n",
       "      <th></th>\n",
       "    </tr>\n",
       "  </thead>\n",
       "  <tbody>\n",
       "    <tr>\n",
       "      <th>女</th>\n",
       "      <td>1.4</td>\n",
       "      <td>89.8</td>\n",
       "    </tr>\n",
       "    <tr>\n",
       "      <th>男</th>\n",
       "      <td>1.6</td>\n",
       "      <td>87.4</td>\n",
       "    </tr>\n",
       "  </tbody>\n",
       "</table>\n",
       "</div>"
      ],
      "text/plain": [
       "     班级    成绩\n",
       "性别           \n",
       "女   1.4  89.8\n",
       "男   1.6  87.4"
      ]
     },
     "execution_count": 8,
     "metadata": {},
     "output_type": "execute_result"
    }
   ],
   "source": [
    "# 对性别进行分组求平均值操作\n",
    "groupby_df3 = grade_df.groupby('性别').mean()\n",
    "# 查看 groupby_df3\n",
    "groupby_df3"
   ]
  },
  {
   "cell_type": "code",
   "execution_count": 9,
   "metadata": {},
   "outputs": [
    {
     "data": {
      "text/plain": [
       "性别\n",
       "女    89.8\n",
       "男    87.4\n",
       "Name: 成绩, dtype: float64"
      ]
     },
     "execution_count": 9,
     "metadata": {},
     "output_type": "execute_result"
    }
   ],
   "source": [
    "# 对班级进行分组聚合操作\n",
    "grade_df1 = grade_df.groupby('性别')['成绩'].mean()\n",
    "# 查看grade_df1\n",
    "grade_df1"
   ]
  },
  {
   "cell_type": "code",
   "execution_count": 10,
   "metadata": {},
   "outputs": [
    {
     "data": {
      "text/plain": [
       "性别\n",
       "女    92.0\n",
       "男    87.0\n",
       "Name: 成绩, dtype: float64"
      ]
     },
     "execution_count": 10,
     "metadata": {},
     "output_type": "execute_result"
    }
   ],
   "source": [
    "# 求出不同性别学生数学成绩的中位数\n",
    "grade_df2 = grade_df.groupby('性别')['成绩'].median()\n",
    "# 查看grader_df2\n",
    "grade_df2"
   ]
  },
  {
   "cell_type": "code",
   "execution_count": 11,
   "metadata": {},
   "outputs": [
    {
     "data": {
      "text/plain": [
       "班级\n",
       "1    男男女女女\n",
       "2    男男男女女\n",
       "Name: 性别, dtype: object"
      ]
     },
     "execution_count": 11,
     "metadata": {},
     "output_type": "execute_result"
    }
   ],
   "source": [
    "# 根据班级进行分组，并拼接性别列的字符串数据\n",
    "groupby_df4 = grade_df.groupby('班级')['性别'].sum()\n",
    "# 查看 groupby_df4\n",
    "groupby_df4"
   ]
  },
  {
   "cell_type": "markdown",
   "metadata": {},
   "source": [
    "字符串的话，sum() 便会对该列的数据进行拼接"
   ]
  },
  {
   "cell_type": "code",
   "execution_count": 12,
   "metadata": {},
   "outputs": [
    {
     "data": {
      "text/plain": [
       "班级  性别\n",
       "1   女     94.0\n",
       "    男     92.5\n",
       "2   女     83.5\n",
       "    男     84.0\n",
       "Name: 成绩, dtype: float64"
      ]
     },
     "execution_count": 12,
     "metadata": {},
     "output_type": "execute_result"
    }
   ],
   "source": [
    "# 获取不同班级下不同性别的学生的平均分\n",
    "grade_df3 = grade_df.groupby(['班级', '性别'])['成绩'].mean()\n",
    "# 查看grade_df3\n",
    "grade_df3"
   ]
  },
  {
   "cell_type": "code",
   "execution_count": 16,
   "metadata": {},
   "outputs": [
    {
     "data": {
      "text/html": [
       "<div>\n",
       "<style scoped>\n",
       "    .dataframe tbody tr th:only-of-type {\n",
       "        vertical-align: middle;\n",
       "    }\n",
       "\n",
       "    .dataframe tbody tr th {\n",
       "        vertical-align: top;\n",
       "    }\n",
       "\n",
       "    .dataframe thead th {\n",
       "        text-align: right;\n",
       "    }\n",
       "</style>\n",
       "<table border=\"1\" class=\"dataframe\">\n",
       "  <thead>\n",
       "    <tr style=\"text-align: right;\">\n",
       "      <th></th>\n",
       "      <th>眼镜</th>\n",
       "      <th>否</th>\n",
       "      <th>是</th>\n",
       "    </tr>\n",
       "    <tr>\n",
       "      <th>班级</th>\n",
       "      <th>性别</th>\n",
       "      <th></th>\n",
       "      <th></th>\n",
       "    </tr>\n",
       "  </thead>\n",
       "  <tbody>\n",
       "    <tr>\n",
       "      <th rowspan=\"2\" valign=\"top\">1</th>\n",
       "      <th>女</th>\n",
       "      <td>92.0</td>\n",
       "      <td>96.0</td>\n",
       "    </tr>\n",
       "    <tr>\n",
       "      <th>男</th>\n",
       "      <td>90.0</td>\n",
       "      <td>95.0</td>\n",
       "    </tr>\n",
       "    <tr>\n",
       "      <th rowspan=\"2\" valign=\"top\">2</th>\n",
       "      <th>女</th>\n",
       "      <td>86.0</td>\n",
       "      <td>NaN</td>\n",
       "    </tr>\n",
       "    <tr>\n",
       "      <th>男</th>\n",
       "      <td>80.0</td>\n",
       "      <td>87.0</td>\n",
       "    </tr>\n",
       "  </tbody>\n",
       "</table>\n",
       "</div>"
      ],
      "text/plain": [
       "眼镜        否     是\n",
       "班级 性别            \n",
       "1  女   92.0  96.0\n",
       "   男   90.0  95.0\n",
       "2  女   86.0   NaN\n",
       "   男   80.0  87.0"
      ]
     },
     "execution_count": 16,
     "metadata": {},
     "output_type": "execute_result"
    }
   ],
   "source": [
    "# 获取不同班级、不同性别、戴与不戴眼镜的学生的最高分\n",
    "grade_df5 = grade_df.groupby(['班级', '性别', '眼镜'])['成绩'].max()\n",
    "\n",
    "# 查看grade_df5\n",
    "grade_df5.unstack()"
   ]
  }
 ],
 "metadata": {
  "kernelspec": {
   "display_name": "Python 3.10.5 64-bit",
   "language": "python",
   "name": "python3"
  },
  "language_info": {
   "codemirror_mode": {
    "name": "ipython",
    "version": 3
   },
   "file_extension": ".py",
   "mimetype": "text/x-python",
   "name": "python",
   "nbconvert_exporter": "python",
   "pygments_lexer": "ipython3",
   "version": "3.10.5"
  },
  "orig_nbformat": 4,
  "vscode": {
   "interpreter": {
    "hash": "7900e232300f843c80303113aa3021703d31abece21e5da9d5844685e2a71f63"
   }
  }
 },
 "nbformat": 4,
 "nbformat_minor": 2
}
