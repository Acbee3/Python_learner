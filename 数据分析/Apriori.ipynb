{
 "cells": [
  {
   "cell_type": "code",
   "execution_count": 7,
   "metadata": {},
   "outputs": [],
   "source": [
    "import pandas as pd\n",
    "from apyori import apriori"
   ]
  },
  {
   "cell_type": "code",
   "execution_count": 8,
   "metadata": {},
   "outputs": [
    {
     "data": {
      "text/html": [
       "<div>\n",
       "<style scoped>\n",
       "    .dataframe tbody tr th:only-of-type {\n",
       "        vertical-align: middle;\n",
       "    }\n",
       "\n",
       "    .dataframe tbody tr th {\n",
       "        vertical-align: top;\n",
       "    }\n",
       "\n",
       "    .dataframe thead th {\n",
       "        text-align: right;\n",
       "    }\n",
       "</style>\n",
       "<table border=\"1\" class=\"dataframe\">\n",
       "  <thead>\n",
       "    <tr style=\"text-align: right;\">\n",
       "      <th></th>\n",
       "      <th>食品名</th>\n",
       "      <th>单价</th>\n",
       "      <th>数量</th>\n",
       "      <th>城市</th>\n",
       "    </tr>\n",
       "  </thead>\n",
       "  <tbody>\n",
       "    <tr>\n",
       "      <th>0</th>\n",
       "      <td>肚脐饼</td>\n",
       "      <td>2</td>\n",
       "      <td>20</td>\n",
       "      <td>潮州</td>\n",
       "    </tr>\n",
       "    <tr>\n",
       "      <th>1</th>\n",
       "      <td>水晶饺</td>\n",
       "      <td>10</td>\n",
       "      <td>-</td>\n",
       "      <td>汕尾</td>\n",
       "    </tr>\n",
       "    <tr>\n",
       "      <th>2</th>\n",
       "      <td>擂茶</td>\n",
       "      <td>12</td>\n",
       "      <td>35</td>\n",
       "      <td>梅州</td>\n",
       "    </tr>\n",
       "    <tr>\n",
       "      <th>3</th>\n",
       "      <td>肚脐饼</td>\n",
       "      <td>4</td>\n",
       "      <td>37</td>\n",
       "      <td>深圳</td>\n",
       "    </tr>\n",
       "    <tr>\n",
       "      <th>4</th>\n",
       "      <td>擂茶</td>\n",
       "      <td>20</td>\n",
       "      <td>-</td>\n",
       "      <td>深圳</td>\n",
       "    </tr>\n",
       "  </tbody>\n",
       "</table>\n",
       "</div>"
      ],
      "text/plain": [
       "   食品名  单价  数量  城市\n",
       "0  肚脐饼   2  20  潮州\n",
       "1  水晶饺  10   -  汕尾\n",
       "2   擂茶  12  35  梅州\n",
       "3  肚脐饼   4  37  深圳\n",
       "4   擂茶  20   -  深圳"
      ]
     },
     "execution_count": 8,
     "metadata": {},
     "output_type": "execute_result"
    }
   ],
   "source": [
    "# 创建一个 DataFrame 对象的数据\n",
    "foods_df = pd.DataFrame({'食品名': ['肚脐饼', '水晶饺', '擂茶', '肚脐饼', '擂茶'], '单价': [2, 10, 12, 4, 20], '数量': [20, '-', 35, 37, '-'], '城市': ['潮州', '汕尾', '梅州', '深圳', '深圳']})\n",
    "foods_df"
   ]
  },
  {
   "cell_type": "code",
   "execution_count": 10,
   "metadata": {},
   "outputs": [
    {
     "data": {
      "text/html": [
       "<div>\n",
       "<style scoped>\n",
       "    .dataframe tbody tr th:only-of-type {\n",
       "        vertical-align: middle;\n",
       "    }\n",
       "\n",
       "    .dataframe tbody tr th {\n",
       "        vertical-align: top;\n",
       "    }\n",
       "\n",
       "    .dataframe thead th {\n",
       "        text-align: right;\n",
       "    }\n",
       "</style>\n",
       "<table border=\"1\" class=\"dataframe\">\n",
       "  <thead>\n",
       "    <tr style=\"text-align: right;\">\n",
       "      <th></th>\n",
       "      <th>单价</th>\n",
       "      <th>数量</th>\n",
       "    </tr>\n",
       "    <tr>\n",
       "      <th>食品名</th>\n",
       "      <th></th>\n",
       "      <th></th>\n",
       "    </tr>\n",
       "  </thead>\n",
       "  <tbody>\n",
       "    <tr>\n",
       "      <th>擂茶</th>\n",
       "      <td>12</td>\n",
       "      <td>35</td>\n",
       "    </tr>\n",
       "    <tr>\n",
       "      <th>水晶饺</th>\n",
       "      <td>10</td>\n",
       "      <td>0</td>\n",
       "    </tr>\n",
       "    <tr>\n",
       "      <th>肚脐饼</th>\n",
       "      <td>2</td>\n",
       "      <td>37</td>\n",
       "    </tr>\n",
       "  </tbody>\n",
       "</table>\n",
       "</div>"
      ],
      "text/plain": [
       "     单价  数量\n",
       "食品名        \n",
       "擂茶   12  35\n",
       "水晶饺  10   0\n",
       "肚脐饼   2  37"
      ]
     },
     "execution_count": 10,
     "metadata": {},
     "output_type": "execute_result"
    }
   ],
   "source": [
    "# 定义函数，以替换【数量】列的“-”为 0\n",
    "def checkCount(data):\n",
    "    if data == \"-\":\n",
    "        return 0\n",
    "    else:\n",
    "        return data\n",
    "    \n",
    "    \n",
    "# 使用 agg() 方法对【数量】列的内容进行替换\n",
    "foods_df['数量'] = foods_df['数量'].agg(checkCount)\n",
    "# 同时计算【单价】列的最小值和【数量】列的最大值\n",
    "foods_df.groupby('食品名').agg({'单价': 'min', '数量': 'max'})"
   ]
  },
  {
   "cell_type": "code",
   "execution_count": 12,
   "metadata": {},
   "outputs": [
    {
     "data": {
      "text/plain": [
       "<generator object apriori at 0x000002257913BCA0>"
      ]
     },
     "execution_count": 12,
     "metadata": {},
     "output_type": "execute_result"
    }
   ],
   "source": [
    "# 创建4条快餐交易数据\n",
    "orders = [['薯条', '可乐'], ['薯条', '可乐', '奶茶'], ['汉堡', '薯条', '可乐'], ['汉堡', '可乐']]\n",
    "# 创建变量 results，调用 apriori() 函数，传入 orders ，设置最小支持度为 0.2，最小置信度为 0.7\n",
    "results = apriori(orders, min_support=0.2, min_confidence=0.7)\n",
    "# 查看变量 results\n",
    "results"
   ]
  },
  {
   "cell_type": "code",
   "execution_count": 14,
   "metadata": {},
   "outputs": [
    {
     "name": "stdout",
     "output_type": "stream",
     "text": [
      "['油条']→['豆浆'] 0.6 1.0 1.25\n",
      "['豆浆']→['油条'] 0.6 0.75 1.25\n"
     ]
    }
   ],
   "source": [
    "# 创建4条早餐店交易数据\n",
    "breakfast = [['豆浆', '油条', '麻球'], ['豆浆', '热干面', '面包'], ['豆浆', '肠粉', '油条'], ['咖啡', '面包'], ['豆浆', '油条']]\n",
    "# 调用 apriori() 函数\n",
    "results_bre = apriori(breakfast, min_support=0.5)\n",
    "# 遍历结果数据\n",
    "for result in results_bre:\n",
    "    # 获取支持度,并保留3位小数\n",
    "    support = round(result.support, 3)\n",
    "    # 遍历ordered_statistics对象\n",
    "    for rule in result.ordered_statistics:\n",
    "        # 获取前件和后件并转成列表\n",
    "        head_set = list(rule.items_base)\n",
    "        tail_set = list(rule.items_add)\n",
    "        # 跳过前件为空的数据\n",
    "        if head_set == []:\n",
    "                continue\n",
    "        # 将前件、后件拼接成关联规则的形式\n",
    "        related_catogory = str(head_set) + '→' + str(tail_set)\n",
    "        # 提取置信度，并保留3位小数\n",
    "        confidence = round(rule.confidence, 3)\n",
    "        # 提取提升度，并保留3位小数\n",
    "        lift = round(rule.lift, 3)\n",
    "        # 查看强关联规则，支持度，置信度，提升度\n",
    "        print(related_catogory, support, confidence, lift)"
   ]
  }
 ],
 "metadata": {
  "kernelspec": {
   "display_name": "Python 3.10.5 64-bit",
   "language": "python",
   "name": "python3"
  },
  "language_info": {
   "codemirror_mode": {
    "name": "ipython",
    "version": 3
   },
   "file_extension": ".py",
   "mimetype": "text/x-python",
   "name": "python",
   "nbconvert_exporter": "python",
   "pygments_lexer": "ipython3",
   "version": "3.10.5"
  },
  "orig_nbformat": 4,
  "vscode": {
   "interpreter": {
    "hash": "7900e232300f843c80303113aa3021703d31abece21e5da9d5844685e2a71f63"
   }
  }
 },
 "nbformat": 4,
 "nbformat_minor": 2
}
