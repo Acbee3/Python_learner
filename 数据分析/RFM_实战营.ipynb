{
 "cells": [
  {
   "cell_type": "code",
   "execution_count": 1,
   "metadata": {},
   "outputs": [],
   "source": [
    "import pandas as pd\n",
    "import matplotlib.pyplot as plt\n",
    "from datetime import datetime\n",
    "import warnings \n",
    "\n",
    "warnings.filterwarnings('ignore') # 忽略非致命警告"
   ]
  },
  {
   "cell_type": "code",
   "execution_count": 2,
   "metadata": {},
   "outputs": [
    {
     "data": {
      "text/html": [
       "<div>\n",
       "<style scoped>\n",
       "    .dataframe tbody tr th:only-of-type {\n",
       "        vertical-align: middle;\n",
       "    }\n",
       "\n",
       "    .dataframe tbody tr th {\n",
       "        vertical-align: top;\n",
       "    }\n",
       "\n",
       "    .dataframe thead th {\n",
       "        text-align: right;\n",
       "    }\n",
       "</style>\n",
       "<table border=\"1\" class=\"dataframe\">\n",
       "  <thead>\n",
       "    <tr style=\"text-align: right;\">\n",
       "      <th></th>\n",
       "      <th>订单号</th>\n",
       "      <th>顾客ID</th>\n",
       "      <th>订单时间</th>\n",
       "      <th>付款金额</th>\n",
       "      <th>商品ID</th>\n",
       "      <th>商品描述</th>\n",
       "    </tr>\n",
       "  </thead>\n",
       "  <tbody>\n",
       "    <tr>\n",
       "      <th>0</th>\n",
       "      <td>e481f51cbdc54678b7cc49136f2d6af7</td>\n",
       "      <td>9ef432eb6251297304e76186b10a928d</td>\n",
       "      <td>2017/10/2 10:56</td>\n",
       "      <td>18.12</td>\n",
       "      <td>87285b34884572647811a353c7ac498a</td>\n",
       "      <td>housewares</td>\n",
       "    </tr>\n",
       "    <tr>\n",
       "      <th>1</th>\n",
       "      <td>e481f51cbdc54678b7cc49136f2d6af7</td>\n",
       "      <td>9ef432eb6251297304e76186b10a928d</td>\n",
       "      <td>2017/10/2 10:56</td>\n",
       "      <td>2.00</td>\n",
       "      <td>87285b34884572647811a353c7ac498a</td>\n",
       "      <td>housewares</td>\n",
       "    </tr>\n",
       "    <tr>\n",
       "      <th>2</th>\n",
       "      <td>e481f51cbdc54678b7cc49136f2d6af7</td>\n",
       "      <td>9ef432eb6251297304e76186b10a928d</td>\n",
       "      <td>2017/10/2 10:56</td>\n",
       "      <td>18.59</td>\n",
       "      <td>87285b34884572647811a353c7ac498a</td>\n",
       "      <td>housewares</td>\n",
       "    </tr>\n",
       "    <tr>\n",
       "      <th>3</th>\n",
       "      <td>128e10d95713541c87cd1a2e48201934</td>\n",
       "      <td>a20e8105f23924cd00833fd87daa0831</td>\n",
       "      <td>2017/8/15 18:29</td>\n",
       "      <td>37.77</td>\n",
       "      <td>87285b34884572647811a353c7ac498a</td>\n",
       "      <td>housewares</td>\n",
       "    </tr>\n",
       "    <tr>\n",
       "      <th>4</th>\n",
       "      <td>0e7e841ddf8f8f2de2bad69267ecfbcf</td>\n",
       "      <td>26c7ac168e1433912a51b924fbd34d34</td>\n",
       "      <td>2017/8/2 18:24</td>\n",
       "      <td>37.77</td>\n",
       "      <td>87285b34884572647811a353c7ac498a</td>\n",
       "      <td>housewares</td>\n",
       "    </tr>\n",
       "    <tr>\n",
       "      <th>5</th>\n",
       "      <td>bfc39df4f36c3693ff3b63fcbea9e90a</td>\n",
       "      <td>53904ddbea91e1e92b2b3f1d09a7af86</td>\n",
       "      <td>2017/10/23 23:26</td>\n",
       "      <td>44.09</td>\n",
       "      <td>87285b34884572647811a353c7ac498a</td>\n",
       "      <td>housewares</td>\n",
       "    </tr>\n",
       "    <tr>\n",
       "      <th>6</th>\n",
       "      <td>6ea2f835b4556291ffdc53fa0b3b95e8</td>\n",
       "      <td>c7340080e394356141681bd4c9b8fe31</td>\n",
       "      <td>2017/11/24 21:27</td>\n",
       "      <td>356.12</td>\n",
       "      <td>be021417a6acb56b9b50d3fd2714baa8</td>\n",
       "      <td>housewares</td>\n",
       "    </tr>\n",
       "    <tr>\n",
       "      <th>7</th>\n",
       "      <td>82bce245b1c9148f8d19a55b9ff70644</td>\n",
       "      <td>388025bec8128ff20ec1a316ed4dcf02</td>\n",
       "      <td>2017/4/20 17:15</td>\n",
       "      <td>267.80</td>\n",
       "      <td>a5a0e71a81ae65aa335e71c06261e260</td>\n",
       "      <td>housewares</td>\n",
       "    </tr>\n",
       "    <tr>\n",
       "      <th>8</th>\n",
       "      <td>82bce245b1c9148f8d19a55b9ff70644</td>\n",
       "      <td>388025bec8128ff20ec1a316ed4dcf02</td>\n",
       "      <td>2017/4/20 17:15</td>\n",
       "      <td>267.80</td>\n",
       "      <td>a5a0e71a81ae65aa335e71c06261e260</td>\n",
       "      <td>housewares</td>\n",
       "    </tr>\n",
       "    <tr>\n",
       "      <th>9</th>\n",
       "      <td>82bce245b1c9148f8d19a55b9ff70644</td>\n",
       "      <td>388025bec8128ff20ec1a316ed4dcf02</td>\n",
       "      <td>2017/4/20 17:15</td>\n",
       "      <td>267.80</td>\n",
       "      <td>a5a0e71a81ae65aa335e71c06261e260</td>\n",
       "      <td>housewares</td>\n",
       "    </tr>\n",
       "  </tbody>\n",
       "</table>\n",
       "</div>"
      ],
      "text/plain": [
       "                                订单号                              顾客ID  \\\n",
       "0  e481f51cbdc54678b7cc49136f2d6af7  9ef432eb6251297304e76186b10a928d   \n",
       "1  e481f51cbdc54678b7cc49136f2d6af7  9ef432eb6251297304e76186b10a928d   \n",
       "2  e481f51cbdc54678b7cc49136f2d6af7  9ef432eb6251297304e76186b10a928d   \n",
       "3  128e10d95713541c87cd1a2e48201934  a20e8105f23924cd00833fd87daa0831   \n",
       "4  0e7e841ddf8f8f2de2bad69267ecfbcf  26c7ac168e1433912a51b924fbd34d34   \n",
       "5  bfc39df4f36c3693ff3b63fcbea9e90a  53904ddbea91e1e92b2b3f1d09a7af86   \n",
       "6  6ea2f835b4556291ffdc53fa0b3b95e8  c7340080e394356141681bd4c9b8fe31   \n",
       "7  82bce245b1c9148f8d19a55b9ff70644  388025bec8128ff20ec1a316ed4dcf02   \n",
       "8  82bce245b1c9148f8d19a55b9ff70644  388025bec8128ff20ec1a316ed4dcf02   \n",
       "9  82bce245b1c9148f8d19a55b9ff70644  388025bec8128ff20ec1a316ed4dcf02   \n",
       "\n",
       "               订单时间    付款金额                              商品ID        商品描述  \n",
       "0   2017/10/2 10:56   18.12  87285b34884572647811a353c7ac498a  housewares  \n",
       "1   2017/10/2 10:56    2.00  87285b34884572647811a353c7ac498a  housewares  \n",
       "2   2017/10/2 10:56   18.59  87285b34884572647811a353c7ac498a  housewares  \n",
       "3   2017/8/15 18:29   37.77  87285b34884572647811a353c7ac498a  housewares  \n",
       "4    2017/8/2 18:24   37.77  87285b34884572647811a353c7ac498a  housewares  \n",
       "5  2017/10/23 23:26   44.09  87285b34884572647811a353c7ac498a  housewares  \n",
       "6  2017/11/24 21:27  356.12  be021417a6acb56b9b50d3fd2714baa8  housewares  \n",
       "7   2017/4/20 17:15  267.80  a5a0e71a81ae65aa335e71c06261e260  housewares  \n",
       "8   2017/4/20 17:15  267.80  a5a0e71a81ae65aa335e71c06261e260  housewares  \n",
       "9   2017/4/20 17:15  267.80  a5a0e71a81ae65aa335e71c06261e260  housewares  "
      ]
     },
     "execution_count": 2,
     "metadata": {},
     "output_type": "execute_result"
    }
   ],
   "source": [
    "data = pd.read_csv('./课程素材/all_data.csv')\n",
    "data.head(10)"
   ]
  },
  {
   "cell_type": "code",
   "execution_count": 3,
   "metadata": {},
   "outputs": [
    {
     "name": "stdout",
     "output_type": "stream",
     "text": [
      "<class 'pandas.core.frame.DataFrame'>\n",
      "RangeIndex: 115878 entries, 0 to 115877\n",
      "Data columns (total 6 columns):\n",
      " #   Column  Non-Null Count   Dtype  \n",
      "---  ------  --------------   -----  \n",
      " 0   订单号     115878 non-null  object \n",
      " 1   顾客ID    115878 non-null  object \n",
      " 2   订单时间    115878 non-null  object \n",
      " 3   付款金额    115878 non-null  float64\n",
      " 4   商品ID    115878 non-null  object \n",
      " 5   商品描述    115878 non-null  object \n",
      "dtypes: float64(1), object(5)\n",
      "memory usage: 5.3+ MB\n"
     ]
    }
   ],
   "source": [
    "data.info()"
   ]
  },
  {
   "cell_type": "code",
   "execution_count": 4,
   "metadata": {},
   "outputs": [
    {
     "data": {
      "text/plain": [
       "订单号     0\n",
       "顾客ID    0\n",
       "订单时间    0\n",
       "付款金额    0\n",
       "商品ID    0\n",
       "商品描述    0\n",
       "dtype: int64"
      ]
     },
     "execution_count": 4,
     "metadata": {},
     "output_type": "execute_result"
    }
   ],
   "source": [
    "data.isna().sum()"
   ]
  },
  {
   "cell_type": "code",
   "execution_count": 5,
   "metadata": {},
   "outputs": [
    {
     "data": {
      "text/plain": [
       "0         False\n",
       "1         False\n",
       "2         False\n",
       "3         False\n",
       "4         False\n",
       "          ...  \n",
       "115873    False\n",
       "115874    False\n",
       "115875    False\n",
       "115876    False\n",
       "115877    False\n",
       "Length: 115878, dtype: bool"
      ]
     },
     "execution_count": 5,
     "metadata": {},
     "output_type": "execute_result"
    }
   ],
   "source": [
    "data.isnull().any(axis=1)"
   ]
  },
  {
   "cell_type": "code",
   "execution_count": 6,
   "metadata": {},
   "outputs": [
    {
     "data": {
      "text/html": [
       "<div>\n",
       "<style scoped>\n",
       "    .dataframe tbody tr th:only-of-type {\n",
       "        vertical-align: middle;\n",
       "    }\n",
       "\n",
       "    .dataframe tbody tr th {\n",
       "        vertical-align: top;\n",
       "    }\n",
       "\n",
       "    .dataframe thead th {\n",
       "        text-align: right;\n",
       "    }\n",
       "</style>\n",
       "<table border=\"1\" class=\"dataframe\">\n",
       "  <thead>\n",
       "    <tr style=\"text-align: right;\">\n",
       "      <th></th>\n",
       "      <th>订单号</th>\n",
       "      <th>顾客ID</th>\n",
       "      <th>订单时间</th>\n",
       "      <th>付款金额</th>\n",
       "      <th>商品ID</th>\n",
       "      <th>商品描述</th>\n",
       "    </tr>\n",
       "  </thead>\n",
       "  <tbody>\n",
       "    <tr>\n",
       "      <th>8</th>\n",
       "      <td>82bce245b1c9148f8d19a55b9ff70644</td>\n",
       "      <td>388025bec8128ff20ec1a316ed4dcf02</td>\n",
       "      <td>2017/4/20 17:15</td>\n",
       "      <td>267.80</td>\n",
       "      <td>a5a0e71a81ae65aa335e71c06261e260</td>\n",
       "      <td>housewares</td>\n",
       "    </tr>\n",
       "    <tr>\n",
       "      <th>9</th>\n",
       "      <td>82bce245b1c9148f8d19a55b9ff70644</td>\n",
       "      <td>388025bec8128ff20ec1a316ed4dcf02</td>\n",
       "      <td>2017/4/20 17:15</td>\n",
       "      <td>267.80</td>\n",
       "      <td>a5a0e71a81ae65aa335e71c06261e260</td>\n",
       "      <td>housewares</td>\n",
       "    </tr>\n",
       "    <tr>\n",
       "      <th>10</th>\n",
       "      <td>82bce245b1c9148f8d19a55b9ff70644</td>\n",
       "      <td>388025bec8128ff20ec1a316ed4dcf02</td>\n",
       "      <td>2017/4/20 17:15</td>\n",
       "      <td>267.80</td>\n",
       "      <td>a5a0e71a81ae65aa335e71c06261e260</td>\n",
       "      <td>housewares</td>\n",
       "    </tr>\n",
       "    <tr>\n",
       "      <th>11</th>\n",
       "      <td>82bce245b1c9148f8d19a55b9ff70644</td>\n",
       "      <td>388025bec8128ff20ec1a316ed4dcf02</td>\n",
       "      <td>2017/4/20 17:15</td>\n",
       "      <td>267.80</td>\n",
       "      <td>a5a0e71a81ae65aa335e71c06261e260</td>\n",
       "      <td>housewares</td>\n",
       "    </tr>\n",
       "    <tr>\n",
       "      <th>24</th>\n",
       "      <td>c49be9a11fd13933307cc6a19b03a895</td>\n",
       "      <td>a972623b3481cbfd95fa776b0067e554</td>\n",
       "      <td>2018/5/15 18:54</td>\n",
       "      <td>928.68</td>\n",
       "      <td>97f1396a5a1f7c07ba51784efdec44b8</td>\n",
       "      <td>housewares</td>\n",
       "    </tr>\n",
       "    <tr>\n",
       "      <th>...</th>\n",
       "      <td>...</td>\n",
       "      <td>...</td>\n",
       "      <td>...</td>\n",
       "      <td>...</td>\n",
       "      <td>...</td>\n",
       "      <td>...</td>\n",
       "    </tr>\n",
       "    <tr>\n",
       "      <th>115714</th>\n",
       "      <td>5020a3db49225f967490d76021c7d13a</td>\n",
       "      <td>5a8b3e70cb6bfdbc353bcb5ae2b4d4eb</td>\n",
       "      <td>2018/1/28 23:36</td>\n",
       "      <td>188.45</td>\n",
       "      <td>3fdb534dccf5bc9ab0406944b913787d</td>\n",
       "      <td>diapers_and_hygiene</td>\n",
       "    </tr>\n",
       "    <tr>\n",
       "      <th>115715</th>\n",
       "      <td>5020a3db49225f967490d76021c7d13a</td>\n",
       "      <td>5a8b3e70cb6bfdbc353bcb5ae2b4d4eb</td>\n",
       "      <td>2018/1/28 23:36</td>\n",
       "      <td>188.45</td>\n",
       "      <td>3fdb534dccf5bc9ab0406944b913787d</td>\n",
       "      <td>diapers_and_hygiene</td>\n",
       "    </tr>\n",
       "    <tr>\n",
       "      <th>115716</th>\n",
       "      <td>5020a3db49225f967490d76021c7d13a</td>\n",
       "      <td>5a8b3e70cb6bfdbc353bcb5ae2b4d4eb</td>\n",
       "      <td>2018/1/28 23:36</td>\n",
       "      <td>188.45</td>\n",
       "      <td>3fdb534dccf5bc9ab0406944b913787d</td>\n",
       "      <td>diapers_and_hygiene</td>\n",
       "    </tr>\n",
       "    <tr>\n",
       "      <th>115737</th>\n",
       "      <td>b144e2ac9863ed27bc59dbe4dd2f8773</td>\n",
       "      <td>49bc0bacf1f213a2d30e240c648ccb01</td>\n",
       "      <td>2017/12/6 14:04</td>\n",
       "      <td>99.70</td>\n",
       "      <td>f83fd2b539bc73678c65be8d418be8c1</td>\n",
       "      <td>diapers_and_hygiene</td>\n",
       "    </tr>\n",
       "    <tr>\n",
       "      <th>115781</th>\n",
       "      <td>161f105f25baba98c7604aad9b99d9a6</td>\n",
       "      <td>b9dd6c551bfe1ea46e2ca722708df61d</td>\n",
       "      <td>2018/3/14 12:26</td>\n",
       "      <td>170.60</td>\n",
       "      <td>7515ab3fc02c8f43b07e9451497fb13e</td>\n",
       "      <td>books_imported</td>\n",
       "    </tr>\n",
       "  </tbody>\n",
       "</table>\n",
       "<p>11039 rows × 6 columns</p>\n",
       "</div>"
      ],
      "text/plain": [
       "                                     订单号                              顾客ID  \\\n",
       "8       82bce245b1c9148f8d19a55b9ff70644  388025bec8128ff20ec1a316ed4dcf02   \n",
       "9       82bce245b1c9148f8d19a55b9ff70644  388025bec8128ff20ec1a316ed4dcf02   \n",
       "10      82bce245b1c9148f8d19a55b9ff70644  388025bec8128ff20ec1a316ed4dcf02   \n",
       "11      82bce245b1c9148f8d19a55b9ff70644  388025bec8128ff20ec1a316ed4dcf02   \n",
       "24      c49be9a11fd13933307cc6a19b03a895  a972623b3481cbfd95fa776b0067e554   \n",
       "...                                  ...                               ...   \n",
       "115714  5020a3db49225f967490d76021c7d13a  5a8b3e70cb6bfdbc353bcb5ae2b4d4eb   \n",
       "115715  5020a3db49225f967490d76021c7d13a  5a8b3e70cb6bfdbc353bcb5ae2b4d4eb   \n",
       "115716  5020a3db49225f967490d76021c7d13a  5a8b3e70cb6bfdbc353bcb5ae2b4d4eb   \n",
       "115737  b144e2ac9863ed27bc59dbe4dd2f8773  49bc0bacf1f213a2d30e240c648ccb01   \n",
       "115781  161f105f25baba98c7604aad9b99d9a6  b9dd6c551bfe1ea46e2ca722708df61d   \n",
       "\n",
       "                   订单时间    付款金额                              商品ID  \\\n",
       "8       2017/4/20 17:15  267.80  a5a0e71a81ae65aa335e71c06261e260   \n",
       "9       2017/4/20 17:15  267.80  a5a0e71a81ae65aa335e71c06261e260   \n",
       "10      2017/4/20 17:15  267.80  a5a0e71a81ae65aa335e71c06261e260   \n",
       "11      2017/4/20 17:15  267.80  a5a0e71a81ae65aa335e71c06261e260   \n",
       "24      2018/5/15 18:54  928.68  97f1396a5a1f7c07ba51784efdec44b8   \n",
       "...                 ...     ...                               ...   \n",
       "115714  2018/1/28 23:36  188.45  3fdb534dccf5bc9ab0406944b913787d   \n",
       "115715  2018/1/28 23:36  188.45  3fdb534dccf5bc9ab0406944b913787d   \n",
       "115716  2018/1/28 23:36  188.45  3fdb534dccf5bc9ab0406944b913787d   \n",
       "115737  2017/12/6 14:04   99.70  f83fd2b539bc73678c65be8d418be8c1   \n",
       "115781  2018/3/14 12:26  170.60  7515ab3fc02c8f43b07e9451497fb13e   \n",
       "\n",
       "                       商品描述  \n",
       "8                housewares  \n",
       "9                housewares  \n",
       "10               housewares  \n",
       "11               housewares  \n",
       "24               housewares  \n",
       "...                     ...  \n",
       "115714  diapers_and_hygiene  \n",
       "115715  diapers_and_hygiene  \n",
       "115716  diapers_and_hygiene  \n",
       "115737  diapers_and_hygiene  \n",
       "115781       books_imported  \n",
       "\n",
       "[11039 rows x 6 columns]"
      ]
     },
     "execution_count": 6,
     "metadata": {},
     "output_type": "execute_result"
    }
   ],
   "source": [
    "data[data.duplicated()]"
   ]
  },
  {
   "cell_type": "code",
   "execution_count": 7,
   "metadata": {},
   "outputs": [
    {
     "name": "stdout",
     "output_type": "stream",
     "text": [
      "<class 'pandas.core.frame.DataFrame'>\n",
      "Int64Index: 104839 entries, 0 to 115877\n",
      "Data columns (total 6 columns):\n",
      " #   Column  Non-Null Count   Dtype  \n",
      "---  ------  --------------   -----  \n",
      " 0   订单号     104839 non-null  object \n",
      " 1   顾客ID    104839 non-null  object \n",
      " 2   订单时间    104839 non-null  object \n",
      " 3   付款金额    104839 non-null  float64\n",
      " 4   商品ID    104839 non-null  object \n",
      " 5   商品描述    104839 non-null  object \n",
      "dtypes: float64(1), object(5)\n",
      "memory usage: 5.6+ MB\n"
     ]
    }
   ],
   "source": [
    "data = data.drop_duplicates()\n",
    "data.info()"
   ]
  },
  {
   "cell_type": "code",
   "execution_count": 8,
   "metadata": {},
   "outputs": [
    {
     "data": {
      "text/html": [
       "<div>\n",
       "<style scoped>\n",
       "    .dataframe tbody tr th:only-of-type {\n",
       "        vertical-align: middle;\n",
       "    }\n",
       "\n",
       "    .dataframe tbody tr th {\n",
       "        vertical-align: top;\n",
       "    }\n",
       "\n",
       "    .dataframe thead th {\n",
       "        text-align: right;\n",
       "    }\n",
       "</style>\n",
       "<table border=\"1\" class=\"dataframe\">\n",
       "  <thead>\n",
       "    <tr style=\"text-align: right;\">\n",
       "      <th></th>\n",
       "      <th>付款金额</th>\n",
       "    </tr>\n",
       "  </thead>\n",
       "  <tbody>\n",
       "    <tr>\n",
       "      <th>count</th>\n",
       "      <td>104839.000000</td>\n",
       "    </tr>\n",
       "    <tr>\n",
       "      <th>mean</th>\n",
       "      <td>158.264636</td>\n",
       "    </tr>\n",
       "    <tr>\n",
       "      <th>std</th>\n",
       "      <td>218.993424</td>\n",
       "    </tr>\n",
       "    <tr>\n",
       "      <th>min</th>\n",
       "      <td>0.000000</td>\n",
       "    </tr>\n",
       "    <tr>\n",
       "      <th>25%</th>\n",
       "      <td>58.370000</td>\n",
       "    </tr>\n",
       "    <tr>\n",
       "      <th>50%</th>\n",
       "      <td>102.850000</td>\n",
       "    </tr>\n",
       "    <tr>\n",
       "      <th>75%</th>\n",
       "      <td>177.320000</td>\n",
       "    </tr>\n",
       "    <tr>\n",
       "      <th>max</th>\n",
       "      <td>13664.080000</td>\n",
       "    </tr>\n",
       "  </tbody>\n",
       "</table>\n",
       "</div>"
      ],
      "text/plain": [
       "                付款金额\n",
       "count  104839.000000\n",
       "mean      158.264636\n",
       "std       218.993424\n",
       "min         0.000000\n",
       "25%        58.370000\n",
       "50%       102.850000\n",
       "75%       177.320000\n",
       "max     13664.080000"
      ]
     },
     "execution_count": 8,
     "metadata": {},
     "output_type": "execute_result"
    }
   ],
   "source": [
    "data.describe()"
   ]
  },
  {
   "cell_type": "code",
   "execution_count": 9,
   "metadata": {},
   "outputs": [
    {
     "data": {
      "text/plain": [
       "array([[<AxesSubplot: title={'center': '付款金额'}>]], dtype=object)"
      ]
     },
     "execution_count": 9,
     "metadata": {},
     "output_type": "execute_result"
    },
    {
     "data": {
      "image/png": "[encoded data removed]",
      "text/plain": [
       "<Figure size 640x480 with 1 Axes>"
      ]
     },
     "metadata": {},
     "output_type": "display_data"
    }
   ],
   "source": [
    "data.hist()"
   ]
  },
  {
   "cell_type": "code",
   "execution_count": 10,
   "metadata": {},
   "outputs": [
    {
     "data": {
      "text/plain": [
       "<AxesSubplot: >"
      ]
     },
     "execution_count": 10,
     "metadata": {},
     "output_type": "execute_result"
    },
    {
     "data": {
      "image/png": "[encoded data removed]",
      "text/plain": [
       "<Figure size 640x480 with 1 Axes>"
      ]
     },
     "metadata": {},
     "output_type": "display_data"
    }
   ],
   "source": [
    "data.boxplot()"
   ]
  },
  {
   "cell_type": "code",
   "execution_count": 11,
   "metadata": {},
   "outputs": [
    {
     "data": {
      "text/html": [
       "<div>\n",
       "<style scoped>\n",
       "    .dataframe tbody tr th:only-of-type {\n",
       "        vertical-align: middle;\n",
       "    }\n",
       "\n",
       "    .dataframe tbody tr th {\n",
       "        vertical-align: top;\n",
       "    }\n",
       "\n",
       "    .dataframe thead th {\n",
       "        text-align: right;\n",
       "    }\n",
       "</style>\n",
       "<table border=\"1\" class=\"dataframe\">\n",
       "  <thead>\n",
       "    <tr style=\"text-align: right;\">\n",
       "      <th></th>\n",
       "      <th>订单号</th>\n",
       "      <th>顾客ID</th>\n",
       "      <th>订单时间</th>\n",
       "      <th>付款金额</th>\n",
       "      <th>商品ID</th>\n",
       "      <th>商品描述</th>\n",
       "    </tr>\n",
       "  </thead>\n",
       "  <tbody>\n",
       "    <tr>\n",
       "      <th>7482</th>\n",
       "      <td>45ed6e85398a87c253db47c2d9f48216</td>\n",
       "      <td>8eab8f9b3c744b76b65f7a2c0c8f2d6c</td>\n",
       "      <td>2017/6/8 21:18</td>\n",
       "      <td>0.0</td>\n",
       "      <td>75d6b6963340c6063f7f4cfcccfe6a30</td>\n",
       "      <td>perfumery</td>\n",
       "    </tr>\n",
       "    <tr>\n",
       "      <th>18706</th>\n",
       "      <td>8bcbe01d44d147f901cd3192671144db</td>\n",
       "      <td>f2def7f64f36952f2f5a9791f0285f34</td>\n",
       "      <td>2018/1/24 23:24</td>\n",
       "      <td>0.0</td>\n",
       "      <td>85d4c1a46f08f730de651ea6f6645313</td>\n",
       "      <td>stationery</td>\n",
       "    </tr>\n",
       "    <tr>\n",
       "      <th>34200</th>\n",
       "      <td>fa65dad1b0e818e3ccc5cb0e39231352</td>\n",
       "      <td>9af2372a1e49340278e7c1ef8d749f34</td>\n",
       "      <td>2017/4/20 12:45</td>\n",
       "      <td>0.0</td>\n",
       "      <td>1aecdb5fa3add74e385f25c6c527a462</td>\n",
       "      <td>garden_tools</td>\n",
       "    </tr>\n",
       "    <tr>\n",
       "      <th>97986</th>\n",
       "      <td>6ccb433e00daae1283ccc956189c82ae</td>\n",
       "      <td>843b211abe7b0264dd4a69eafc5bdf43</td>\n",
       "      <td>2017/10/26 23:51</td>\n",
       "      <td>0.0</td>\n",
       "      <td>2ee4be9805f228255a38a6f9b03fff1a</td>\n",
       "      <td>sports_leisure</td>\n",
       "    </tr>\n",
       "    <tr>\n",
       "      <th>110465</th>\n",
       "      <td>b23878b3e8eb4d25a158f57d96331b18</td>\n",
       "      <td>648121b599d98c420ef93f6135f8c80c</td>\n",
       "      <td>2017/5/27 19:20</td>\n",
       "      <td>0.0</td>\n",
       "      <td>e306ca54c91b21392317d5b4632c9fe3</td>\n",
       "      <td>consoles_games</td>\n",
       "    </tr>\n",
       "  </tbody>\n",
       "</table>\n",
       "</div>"
      ],
      "text/plain": [
       "                                     订单号                              顾客ID  \\\n",
       "7482    45ed6e85398a87c253db47c2d9f48216  8eab8f9b3c744b76b65f7a2c0c8f2d6c   \n",
       "18706   8bcbe01d44d147f901cd3192671144db  f2def7f64f36952f2f5a9791f0285f34   \n",
       "34200   fa65dad1b0e818e3ccc5cb0e39231352  9af2372a1e49340278e7c1ef8d749f34   \n",
       "97986   6ccb433e00daae1283ccc956189c82ae  843b211abe7b0264dd4a69eafc5bdf43   \n",
       "110465  b23878b3e8eb4d25a158f57d96331b18  648121b599d98c420ef93f6135f8c80c   \n",
       "\n",
       "                    订单时间  付款金额                              商品ID  \\\n",
       "7482      2017/6/8 21:18   0.0  75d6b6963340c6063f7f4cfcccfe6a30   \n",
       "18706    2018/1/24 23:24   0.0  85d4c1a46f08f730de651ea6f6645313   \n",
       "34200    2017/4/20 12:45   0.0  1aecdb5fa3add74e385f25c6c527a462   \n",
       "97986   2017/10/26 23:51   0.0  2ee4be9805f228255a38a6f9b03fff1a   \n",
       "110465   2017/5/27 19:20   0.0  e306ca54c91b21392317d5b4632c9fe3   \n",
       "\n",
       "                  商品描述  \n",
       "7482         perfumery  \n",
       "18706       stationery  \n",
       "34200     garden_tools  \n",
       "97986   sports_leisure  \n",
       "110465  consoles_games  "
      ]
     },
     "execution_count": 11,
     "metadata": {},
     "output_type": "execute_result"
    }
   ],
   "source": [
    "data[data['付款金额'] == 0]"
   ]
  },
  {
   "cell_type": "code",
   "execution_count": 12,
   "metadata": {},
   "outputs": [
    {
     "data": {
      "image/png": "[encoded data removed]",
      "text/plain": [
       "<Figure size 640x480 with 1 Axes>"
      ]
     },
     "metadata": {},
     "output_type": "display_data"
    }
   ],
   "source": [
    "plt.hist(data['付款金额'], 50, density=True, color='g')\n",
    "plt.show()"
   ]
  },
  {
   "cell_type": "code",
   "execution_count": 13,
   "metadata": {},
   "outputs": [
    {
     "data": {
      "image/png": "[encoded data removed]",
      "text/plain": [
       "<Figure size 640x480 with 1 Axes>"
      ]
     },
     "metadata": {},
     "output_type": "display_data"
    }
   ],
   "source": [
    "m = data['付款金额'].mean()\n",
    "std = data['付款金额'].std()\n",
    "\n",
    "plt.hist(data['付款金额'], 50, density=True, color='g')\n",
    "\n",
    "plt.axvline(x = m + 3 * std, color='r')\n",
    "plt.axvline(x = m - 3 * std, color='r')\n",
    "\n",
    "plt.show()"
   ]
  },
  {
   "cell_type": "code",
   "execution_count": 14,
   "metadata": {},
   "outputs": [],
   "source": [
    "priced_sorted = sorted(data['付款金额'])\n",
    "\n",
    "# 阈值\n",
    "threshold = m + 3 * std\n",
    "\n",
    "price_normal = []\n",
    "price_outlier = []\n",
    "\n",
    "for price in priced_sorted:\n",
    "    if price < threshold:\n",
    "        price_normal.append(price)\n",
    "    else:\n",
    "        price_outlier.append(price)"
   ]
  },
  {
   "cell_type": "code",
   "execution_count": 15,
   "metadata": {},
   "outputs": [
    {
     "data": {
      "text/plain": [
       "(array([1.22340888e-03, 3.63925426e-03, 6.82166596e-03, 6.73827879e-03,\n",
       "        6.06224711e-03, 5.11580275e-03, 4.66372518e-03, 3.94540429e-03,\n",
       "        3.37956279e-03, 2.91259465e-03, 2.60942273e-03, 1.99652705e-03,\n",
       "        1.66953023e-03, 1.52538955e-03, 1.13585235e-03, 9.19045715e-04,\n",
       "        7.18916512e-04, 6.06939458e-04, 5.53333421e-04, 6.08726326e-04,\n",
       "        4.49099462e-04, 4.11575236e-04, 4.09192745e-04, 3.01980672e-04,\n",
       "        2.65647692e-04, 2.91259465e-04, 2.03702939e-04, 1.82856147e-04,\n",
       "        1.76304298e-04, 1.50096902e-04, 1.17337658e-04, 1.54266261e-04,\n",
       "        1.00064602e-04, 1.17933280e-04, 1.01851469e-04, 8.75565263e-05,\n",
       "        1.00064602e-04, 1.20315771e-04, 9.58952431e-05, 8.75565263e-05,\n",
       "        7.68353190e-05, 7.50484511e-05, 6.79009796e-05, 6.31359986e-05,\n",
       "        6.73053570e-05, 4.88410555e-05, 5.30104139e-05, 4.58629424e-05,\n",
       "        4.10979613e-05, 4.34804518e-05]),\n",
       " array([  0.    ,  16.2992,  32.5984,  48.8976,  65.1968,  81.496 ,\n",
       "         97.7952, 114.0944, 130.3936, 146.6928, 162.992 , 179.2912,\n",
       "        195.5904, 211.8896, 228.1888, 244.488 , 260.7872, 277.0864,\n",
       "        293.3856, 309.6848, 325.984 , 342.2832, 358.5824, 374.8816,\n",
       "        391.1808, 407.48  , 423.7792, 440.0784, 456.3776, 472.6768,\n",
       "        488.976 , 505.2752, 521.5744, 537.8736, 554.1728, 570.472 ,\n",
       "        586.7712, 603.0704, 619.3696, 635.6688, 651.968 , 668.2672,\n",
       "        684.5664, 700.8656, 717.1648, 733.464 , 749.7632, 766.0624,\n",
       "        782.3616, 798.6608, 814.96  ]),\n",
       " <BarContainer object of 50 artists>)"
      ]
     },
     "execution_count": 15,
     "metadata": {},
     "output_type": "execute_result"
    },
    {
     "data": {
      "image/png": "[encoded data removed]",
      "text/plain": [
       "<Figure size 640x480 with 1 Axes>"
      ]
     },
     "metadata": {},
     "output_type": "display_data"
    }
   ],
   "source": [
    "plt.hist(price_normal, 50, density=True, color='g')"
   ]
  },
  {
   "cell_type": "code",
   "execution_count": 16,
   "metadata": {},
   "outputs": [
    {
     "data": {
      "text/plain": [
       "<matplotlib.collections.PathCollection at 0x12456faf0>"
      ]
     },
     "execution_count": 16,
     "metadata": {},
     "output_type": "execute_result"
    },
    {
     "data": {
      "image/png": "[encoded data removed]",
      "text/plain": [
       "<Figure size 640x480 with 1 Axes>"
      ]
     },
     "metadata": {},
     "output_type": "display_data"
    }
   ],
   "source": [
    "plt.scatter(range(len(price_outlier)), price_outlier)"
   ]
  },
  {
   "cell_type": "code",
   "execution_count": 17,
   "metadata": {},
   "outputs": [
    {
     "data": {
      "text/plain": [
       "118.94999999999999"
      ]
     },
     "execution_count": 17,
     "metadata": {},
     "output_type": "execute_result"
    }
   ],
   "source": [
    "Q1 = data['付款金额'].quantile(0.25)\n",
    "Q3 = data['付款金额'].quantile(0.75)\n",
    "IQR = Q3 - Q1\n",
    "IQR"
   ]
  },
  {
   "cell_type": "code",
   "execution_count": 18,
   "metadata": {},
   "outputs": [],
   "source": [
    "df_box_normal = data[(data['付款金额'] > Q1 - 1.5 * IQR) & (data['付款金额'] < Q3 + 1.5 * IQR)]['付款金额']"
   ]
  },
  {
   "cell_type": "code",
   "execution_count": 19,
   "metadata": {},
   "outputs": [
    {
     "data": {
      "text/plain": [
       "0          18.12\n",
       "1           2.00\n",
       "2          18.59\n",
       "3          37.77\n",
       "4          37.77\n",
       "           ...  \n",
       "115873     33.69\n",
       "115874     84.63\n",
       "115875     84.63\n",
       "115876    209.06\n",
       "115877    115.45\n",
       "Name: 付款金额, Length: 96773, dtype: float64"
      ]
     },
     "execution_count": 19,
     "metadata": {},
     "output_type": "execute_result"
    }
   ],
   "source": [
    "df_box_normal"
   ]
  },
  {
   "cell_type": "code",
   "execution_count": 20,
   "metadata": {},
   "outputs": [
    {
     "data": {
      "text/plain": [
       "{'whiskers': [<matplotlib.lines.Line2D at 0x125876a40>,\n",
       "  <matplotlib.lines.Line2D at 0x125876ce0>],\n",
       " 'caps': [<matplotlib.lines.Line2D at 0x125876f80>,\n",
       "  <matplotlib.lines.Line2D at 0x125877220>],\n",
       " 'boxes': [<matplotlib.lines.Line2D at 0x1258767a0>],\n",
       " 'medians': [<matplotlib.lines.Line2D at 0x1258774c0>],\n",
       " 'fliers': [<matplotlib.lines.Line2D at 0x125877760>],\n",
       " 'means': []}"
      ]
     },
     "execution_count": 20,
     "metadata": {},
     "output_type": "execute_result"
    },
    {
     "data": {
      "image/png": "[encoded data removed]",
      "text/plain": [
       "<Figure size 640x480 with 1 Axes>"
      ]
     },
     "metadata": {},
     "output_type": "display_data"
    }
   ],
   "source": [
    "plt.boxplot(df_box_normal)"
   ]
  },
  {
   "cell_type": "code",
   "execution_count": 21,
   "metadata": {},
   "outputs": [
    {
     "data": {
      "text/plain": [
       "0        2017-10-02 10:56:00\n",
       "1        2017-10-02 10:56:00\n",
       "2        2017-10-02 10:56:00\n",
       "3        2017-08-15 18:29:00\n",
       "4        2017-08-02 18:24:00\n",
       "                 ...        \n",
       "115873   2018-08-03 21:35:00\n",
       "115874   2018-07-23 18:35:00\n",
       "115875   2018-07-23 18:35:00\n",
       "115876   2017-01-26 11:09:00\n",
       "115877   2017-09-17 16:51:00\n",
       "Name: 订单时间, Length: 104839, dtype: datetime64[ns]"
      ]
     },
     "execution_count": 21,
     "metadata": {},
     "output_type": "execute_result"
    }
   ],
   "source": [
    "data['订单时间'].astype('datetime64') # astype 转换时间比 to_datetime 快\n",
    "# df.astype({\n",
    "#     '时间字段1' : 'datetime64',\n",
    "#     '时间字段2' : 'datetime64',\n",
    "#     '时间字段3' : 'datetime64'\n",
    "# })"
   ]
  },
  {
   "cell_type": "code",
   "execution_count": 22,
   "metadata": {},
   "outputs": [
    {
     "data": {
      "text/plain": [
       "0        2017-10-02 10:56:00\n",
       "1        2017-10-02 10:56:00\n",
       "2        2017-10-02 10:56:00\n",
       "3        2017-08-15 18:29:00\n",
       "4        2017-08-02 18:24:00\n",
       "                 ...        \n",
       "115873   2018-08-03 21:35:00\n",
       "115874   2018-07-23 18:35:00\n",
       "115875   2018-07-23 18:35:00\n",
       "115876   2017-01-26 11:09:00\n",
       "115877   2017-09-17 16:51:00\n",
       "Name: 订单时间, Length: 104839, dtype: datetime64[ns]"
      ]
     },
     "execution_count": 22,
     "metadata": {},
     "output_type": "execute_result"
    }
   ],
   "source": [
    "pd.to_datetime(data['订单时间'])"
   ]
  }
 ],
 "metadata": {
  "kernelspec": {
   "display_name": "Python 3.10.4 64-bit",
   "language": "python",
   "name": "python3"
  },
  "language_info": {
   "codemirror_mode": {
    "name": "ipython",
    "version": 3
   },
   "file_extension": ".py",
   "mimetype": "text/x-python",
   "name": "python",
   "nbconvert_exporter": "python",
   "pygments_lexer": "ipython3",
   "version": "3.10.4"
  },
  "orig_nbformat": 4,
  "vscode": {
   "interpreter": {
    "hash": "aee8b7b246df8f9039afb4144a1f6fd8d2ca17a180786b69acc140d282b71a49"
   }
  }
 },
 "nbformat": 4,
 "nbformat_minor": 2
}
